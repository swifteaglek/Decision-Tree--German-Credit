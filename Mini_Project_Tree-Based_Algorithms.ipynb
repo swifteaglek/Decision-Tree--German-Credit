{
 "cells": [
  {
   "cell_type": "markdown",
   "metadata": {},
   "source": [
    "# Mini Project: Tree-Based Algorithms"
   ]
  },
  {
   "cell_type": "markdown",
   "metadata": {},
   "source": [
    "## The \"German Credit\" Dataset"
   ]
  },
  {
   "cell_type": "markdown",
   "metadata": {},
   "source": [
    "### Dataset Details"
   ]
  },
  {
   "cell_type": "markdown",
   "metadata": {},
   "source": [
    "This dataset has two classes (these would be considered labels in Machine Learning terms) to describe the worthiness of a personal loan: \"Good\" or \"Bad\". There are predictors related to attributes, such as: checking account status, duration, credit history, purpose of the loan, amount of the loan, savings accounts or bonds, employment duration, installment rate in percentage of disposable income, personal information, other debtors/guarantors, residence duration, property, age, other installment plans, housing, number of existing credits, job information, number of people being liable to provide maintenance for, telephone, and foreign worker status.\n",
    "\n",
    "Many of these predictors are discrete and have been expanded into several 0/1 indicator variables (a.k.a. they have been one-hot-encoded).\n",
    "\n",
    "This dataset has been kindly provided by Professor Dr. Hans Hofmann of the University of Hamburg, and can also be found on the UCI Machine Learning Repository."
   ]
  },
  {
   "cell_type": "markdown",
   "metadata": {},
   "source": [
    "\n",
    "\n",
    "\n"
   ]
  },
  {
   "cell_type": "markdown",
   "metadata": {},
   "source": [
    "## Decision Trees"
   ]
  },
  {
   "cell_type": "markdown",
   "metadata": {},
   "source": [
    " As we have learned in the previous lectures, Decision Trees as a family of algorithms (irrespective to the particular implementation) are powerful algorithms that can produce models with a predictive accuracy higher than that produced by linear models, such as Linear or Logistic Regression. Primarily, this is due to the fact the DT's can model nonlinear relationships, and also have a number of tuning paramters, that allow for the practicioner to achieve the best possible model. An added bonus is the ability to visualize the trained Decision Tree model, which allows for some insight into how the model has produced the predictions that it has. One caveat here, to keep in mind, is that sometimes, due to the size of the dataset (both in the sense of the number of records, as well as the number of features), the visualization might prove to be very large and complex, increasing the difficulty of interpretation."
   ]
  },
  {
   "cell_type": "markdown",
   "metadata": {},
   "source": [
    "To give you a very good example of how Decision Trees can be visualized and interpreted, we would strongly recommend that, before continuing on with solving the problems in this Mini Project, you take the time to read this fanstastic, detailed and informative blog post: http://explained.ai/decision-tree-viz/index.html"
   ]
  },
  {
   "cell_type": "markdown",
   "metadata": {},
   "source": [
    "## Building Your First Decision Tree Model"
   ]
  },
  {
   "cell_type": "markdown",
   "metadata": {},
   "source": [
    "So, now it's time to jump straight into the heart of the matter. Your first task, is to build a Decision Tree model, using the aforementioned \"German Credit\" dataset, which contains 1,000 records, and 62 columns (one of them presents the labels, and the other 61 present the potential features for the model.)"
   ]
  },
  {
   "cell_type": "markdown",
   "metadata": {},
   "source": [
    "For this task, you will be using the scikit-learn library, which comes already pre-installed with the Anaconda Python distribution. In case you're not using that, you can easily install it using pip."
   ]
  },
  {
   "cell_type": "markdown",
   "metadata": {},
   "source": [
    "Before embarking on creating your first model, we would strongly encourage you to read the short tutorial for Decision Trees in scikit-learn (http://scikit-learn.org/stable/modules/tree.html), and then dive a bit deeper into the documentation of the algorithm itself (http://scikit-learn.org/stable/modules/generated/sklearn.tree.DecisionTreeClassifier.html). "
   ]
  },
  {
   "cell_type": "markdown",
   "metadata": {},
   "source": [
    "Also, since you want to be able to present the results of your model, we suggest you take a look at the tutorial for accuracy metrics for classification models (http://scikit-learn.org/stable/modules/model_evaluation.html#classification-report) as well as the more detailed documentation (http://scikit-learn.org/stable/modules/generated/sklearn.metrics.classification_report.html).\n",
    "\n",
    "Finally, an *amazing* resource that explains the various classification model accuracy metrics, as well as the relationships between them, can be found on Wikipedia: https://en.wikipedia.org/wiki/Confusion_matrix"
   ]
  },
  {
   "cell_type": "markdown",
   "metadata": {},
   "source": [
    "(Note: as you've already learned in the Logistic Regression mini project, a standard practice in Machine Learning for achieving the best possible result when training a model is to use hyperparameter tuning, through Grid Search and k-fold Cross Validation. We strongly encourage you to use it here as well, not just because it's standard practice, but also becuase it's not going to be computationally to intensive, due to the size of the dataset that you're working with. Our suggestion here is that you split the data into 70% training, and 30% testing. Then, do the hyperparameter tuning and Cross Validation on the training set, and afterwards to a final test on the testing set.)"
   ]
  },
  {
   "cell_type": "markdown",
   "metadata": {},
   "source": [
    "### Now we pass the torch onto you! You can start building your first Decision Tree model! :)"
   ]
  },
  {
   "cell_type": "code",
   "execution_count": 1,
   "metadata": {},
   "outputs": [],
   "source": [
    "import pandas as pd\n",
    "from sklearn.tree import DecisionTreeClassifier\n",
    "from sklearn.metrics import classification_report\n",
    "from sklearn.model_selection import train_test_split\n",
    "from sklearn.model_selection import GridSearchCV"
   ]
  },
  {
   "cell_type": "code",
   "execution_count": 2,
   "metadata": {},
   "outputs": [
    {
     "data": {
      "text/html": [
       "<div>\n",
       "<style scoped>\n",
       "    .dataframe tbody tr th:only-of-type {\n",
       "        vertical-align: middle;\n",
       "    }\n",
       "\n",
       "    .dataframe tbody tr th {\n",
       "        vertical-align: top;\n",
       "    }\n",
       "\n",
       "    .dataframe thead th {\n",
       "        text-align: right;\n",
       "    }\n",
       "</style>\n",
       "<table border=\"1\" class=\"dataframe\">\n",
       "  <thead>\n",
       "    <tr style=\"text-align: right;\">\n",
       "      <th></th>\n",
       "      <th>Duration</th>\n",
       "      <th>Amount</th>\n",
       "      <th>InstallmentRatePercentage</th>\n",
       "      <th>ResidenceDuration</th>\n",
       "      <th>Age</th>\n",
       "      <th>NumberExistingCredits</th>\n",
       "      <th>NumberPeopleMaintenance</th>\n",
       "      <th>Telephone</th>\n",
       "      <th>ForeignWorker</th>\n",
       "      <th>Class</th>\n",
       "      <th>...</th>\n",
       "      <th>OtherInstallmentPlans.Bank</th>\n",
       "      <th>OtherInstallmentPlans.Stores</th>\n",
       "      <th>OtherInstallmentPlans.None</th>\n",
       "      <th>Housing.Rent</th>\n",
       "      <th>Housing.Own</th>\n",
       "      <th>Housing.ForFree</th>\n",
       "      <th>Job.UnemployedUnskilled</th>\n",
       "      <th>Job.UnskilledResident</th>\n",
       "      <th>Job.SkilledEmployee</th>\n",
       "      <th>Job.Management.SelfEmp.HighlyQualified</th>\n",
       "    </tr>\n",
       "  </thead>\n",
       "  <tbody>\n",
       "    <tr>\n",
       "      <th>0</th>\n",
       "      <td>6</td>\n",
       "      <td>1169</td>\n",
       "      <td>4</td>\n",
       "      <td>4</td>\n",
       "      <td>67</td>\n",
       "      <td>2</td>\n",
       "      <td>1</td>\n",
       "      <td>0</td>\n",
       "      <td>1</td>\n",
       "      <td>Good</td>\n",
       "      <td>...</td>\n",
       "      <td>0</td>\n",
       "      <td>0</td>\n",
       "      <td>1</td>\n",
       "      <td>0</td>\n",
       "      <td>1</td>\n",
       "      <td>0</td>\n",
       "      <td>0</td>\n",
       "      <td>0</td>\n",
       "      <td>1</td>\n",
       "      <td>0</td>\n",
       "    </tr>\n",
       "    <tr>\n",
       "      <th>1</th>\n",
       "      <td>48</td>\n",
       "      <td>5951</td>\n",
       "      <td>2</td>\n",
       "      <td>2</td>\n",
       "      <td>22</td>\n",
       "      <td>1</td>\n",
       "      <td>1</td>\n",
       "      <td>1</td>\n",
       "      <td>1</td>\n",
       "      <td>Bad</td>\n",
       "      <td>...</td>\n",
       "      <td>0</td>\n",
       "      <td>0</td>\n",
       "      <td>1</td>\n",
       "      <td>0</td>\n",
       "      <td>1</td>\n",
       "      <td>0</td>\n",
       "      <td>0</td>\n",
       "      <td>0</td>\n",
       "      <td>1</td>\n",
       "      <td>0</td>\n",
       "    </tr>\n",
       "    <tr>\n",
       "      <th>2</th>\n",
       "      <td>12</td>\n",
       "      <td>2096</td>\n",
       "      <td>2</td>\n",
       "      <td>3</td>\n",
       "      <td>49</td>\n",
       "      <td>1</td>\n",
       "      <td>2</td>\n",
       "      <td>1</td>\n",
       "      <td>1</td>\n",
       "      <td>Good</td>\n",
       "      <td>...</td>\n",
       "      <td>0</td>\n",
       "      <td>0</td>\n",
       "      <td>1</td>\n",
       "      <td>0</td>\n",
       "      <td>1</td>\n",
       "      <td>0</td>\n",
       "      <td>0</td>\n",
       "      <td>1</td>\n",
       "      <td>0</td>\n",
       "      <td>0</td>\n",
       "    </tr>\n",
       "    <tr>\n",
       "      <th>3</th>\n",
       "      <td>42</td>\n",
       "      <td>7882</td>\n",
       "      <td>2</td>\n",
       "      <td>4</td>\n",
       "      <td>45</td>\n",
       "      <td>1</td>\n",
       "      <td>2</td>\n",
       "      <td>1</td>\n",
       "      <td>1</td>\n",
       "      <td>Good</td>\n",
       "      <td>...</td>\n",
       "      <td>0</td>\n",
       "      <td>0</td>\n",
       "      <td>1</td>\n",
       "      <td>0</td>\n",
       "      <td>0</td>\n",
       "      <td>1</td>\n",
       "      <td>0</td>\n",
       "      <td>0</td>\n",
       "      <td>1</td>\n",
       "      <td>0</td>\n",
       "    </tr>\n",
       "    <tr>\n",
       "      <th>4</th>\n",
       "      <td>24</td>\n",
       "      <td>4870</td>\n",
       "      <td>3</td>\n",
       "      <td>4</td>\n",
       "      <td>53</td>\n",
       "      <td>2</td>\n",
       "      <td>2</td>\n",
       "      <td>1</td>\n",
       "      <td>1</td>\n",
       "      <td>Bad</td>\n",
       "      <td>...</td>\n",
       "      <td>0</td>\n",
       "      <td>0</td>\n",
       "      <td>1</td>\n",
       "      <td>0</td>\n",
       "      <td>0</td>\n",
       "      <td>1</td>\n",
       "      <td>0</td>\n",
       "      <td>0</td>\n",
       "      <td>1</td>\n",
       "      <td>0</td>\n",
       "    </tr>\n",
       "  </tbody>\n",
       "</table>\n",
       "<p>5 rows × 62 columns</p>\n",
       "</div>"
      ],
      "text/plain": [
       "   Duration  Amount  InstallmentRatePercentage  ResidenceDuration  Age  \\\n",
       "0         6    1169                          4                  4   67   \n",
       "1        48    5951                          2                  2   22   \n",
       "2        12    2096                          2                  3   49   \n",
       "3        42    7882                          2                  4   45   \n",
       "4        24    4870                          3                  4   53   \n",
       "\n",
       "   NumberExistingCredits  NumberPeopleMaintenance  Telephone  ForeignWorker  \\\n",
       "0                      2                        1          0              1   \n",
       "1                      1                        1          1              1   \n",
       "2                      1                        2          1              1   \n",
       "3                      1                        2          1              1   \n",
       "4                      2                        2          1              1   \n",
       "\n",
       "  Class  ...  OtherInstallmentPlans.Bank  OtherInstallmentPlans.Stores  \\\n",
       "0  Good  ...                           0                             0   \n",
       "1   Bad  ...                           0                             0   \n",
       "2  Good  ...                           0                             0   \n",
       "3  Good  ...                           0                             0   \n",
       "4   Bad  ...                           0                             0   \n",
       "\n",
       "   OtherInstallmentPlans.None  Housing.Rent  Housing.Own  Housing.ForFree  \\\n",
       "0                           1             0            1                0   \n",
       "1                           1             0            1                0   \n",
       "2                           1             0            1                0   \n",
       "3                           1             0            0                1   \n",
       "4                           1             0            0                1   \n",
       "\n",
       "   Job.UnemployedUnskilled  Job.UnskilledResident  Job.SkilledEmployee  \\\n",
       "0                        0                      0                    1   \n",
       "1                        0                      0                    1   \n",
       "2                        0                      1                    0   \n",
       "3                        0                      0                    1   \n",
       "4                        0                      0                    1   \n",
       "\n",
       "   Job.Management.SelfEmp.HighlyQualified  \n",
       "0                                       0  \n",
       "1                                       0  \n",
       "2                                       0  \n",
       "3                                       0  \n",
       "4                                       0  \n",
       "\n",
       "[5 rows x 62 columns]"
      ]
     },
     "execution_count": 2,
     "metadata": {},
     "output_type": "execute_result"
    }
   ],
   "source": [
    "# Your code here! :)\n",
    "gcredit_df = pd.read_csv(\"GermanCredit.csv\")\n",
    "gcredit_df.head()"
   ]
  },
  {
   "cell_type": "code",
   "execution_count": 3,
   "metadata": {},
   "outputs": [
    {
     "data": {
      "text/html": [
       "<div>\n",
       "<style scoped>\n",
       "    .dataframe tbody tr th:only-of-type {\n",
       "        vertical-align: middle;\n",
       "    }\n",
       "\n",
       "    .dataframe tbody tr th {\n",
       "        vertical-align: top;\n",
       "    }\n",
       "\n",
       "    .dataframe thead th {\n",
       "        text-align: right;\n",
       "    }\n",
       "</style>\n",
       "<table border=\"1\" class=\"dataframe\">\n",
       "  <thead>\n",
       "    <tr style=\"text-align: right;\">\n",
       "      <th></th>\n",
       "      <th>Duration</th>\n",
       "      <th>Amount</th>\n",
       "      <th>InstallmentRatePercentage</th>\n",
       "      <th>ResidenceDuration</th>\n",
       "      <th>Age</th>\n",
       "      <th>NumberExistingCredits</th>\n",
       "      <th>NumberPeopleMaintenance</th>\n",
       "      <th>Telephone</th>\n",
       "      <th>ForeignWorker</th>\n",
       "      <th>CheckingAccountStatus.lt.0</th>\n",
       "      <th>...</th>\n",
       "      <th>OtherInstallmentPlans.Bank</th>\n",
       "      <th>OtherInstallmentPlans.Stores</th>\n",
       "      <th>OtherInstallmentPlans.None</th>\n",
       "      <th>Housing.Rent</th>\n",
       "      <th>Housing.Own</th>\n",
       "      <th>Housing.ForFree</th>\n",
       "      <th>Job.UnemployedUnskilled</th>\n",
       "      <th>Job.UnskilledResident</th>\n",
       "      <th>Job.SkilledEmployee</th>\n",
       "      <th>Job.Management.SelfEmp.HighlyQualified</th>\n",
       "    </tr>\n",
       "  </thead>\n",
       "  <tbody>\n",
       "    <tr>\n",
       "      <th>0</th>\n",
       "      <td>6</td>\n",
       "      <td>1169</td>\n",
       "      <td>4</td>\n",
       "      <td>4</td>\n",
       "      <td>67</td>\n",
       "      <td>2</td>\n",
       "      <td>1</td>\n",
       "      <td>0</td>\n",
       "      <td>1</td>\n",
       "      <td>1</td>\n",
       "      <td>...</td>\n",
       "      <td>0</td>\n",
       "      <td>0</td>\n",
       "      <td>1</td>\n",
       "      <td>0</td>\n",
       "      <td>1</td>\n",
       "      <td>0</td>\n",
       "      <td>0</td>\n",
       "      <td>0</td>\n",
       "      <td>1</td>\n",
       "      <td>0</td>\n",
       "    </tr>\n",
       "    <tr>\n",
       "      <th>1</th>\n",
       "      <td>48</td>\n",
       "      <td>5951</td>\n",
       "      <td>2</td>\n",
       "      <td>2</td>\n",
       "      <td>22</td>\n",
       "      <td>1</td>\n",
       "      <td>1</td>\n",
       "      <td>1</td>\n",
       "      <td>1</td>\n",
       "      <td>0</td>\n",
       "      <td>...</td>\n",
       "      <td>0</td>\n",
       "      <td>0</td>\n",
       "      <td>1</td>\n",
       "      <td>0</td>\n",
       "      <td>1</td>\n",
       "      <td>0</td>\n",
       "      <td>0</td>\n",
       "      <td>0</td>\n",
       "      <td>1</td>\n",
       "      <td>0</td>\n",
       "    </tr>\n",
       "    <tr>\n",
       "      <th>2</th>\n",
       "      <td>12</td>\n",
       "      <td>2096</td>\n",
       "      <td>2</td>\n",
       "      <td>3</td>\n",
       "      <td>49</td>\n",
       "      <td>1</td>\n",
       "      <td>2</td>\n",
       "      <td>1</td>\n",
       "      <td>1</td>\n",
       "      <td>0</td>\n",
       "      <td>...</td>\n",
       "      <td>0</td>\n",
       "      <td>0</td>\n",
       "      <td>1</td>\n",
       "      <td>0</td>\n",
       "      <td>1</td>\n",
       "      <td>0</td>\n",
       "      <td>0</td>\n",
       "      <td>1</td>\n",
       "      <td>0</td>\n",
       "      <td>0</td>\n",
       "    </tr>\n",
       "  </tbody>\n",
       "</table>\n",
       "<p>3 rows × 61 columns</p>\n",
       "</div>"
      ],
      "text/plain": [
       "   Duration  Amount  InstallmentRatePercentage  ResidenceDuration  Age  \\\n",
       "0         6    1169                          4                  4   67   \n",
       "1        48    5951                          2                  2   22   \n",
       "2        12    2096                          2                  3   49   \n",
       "\n",
       "   NumberExistingCredits  NumberPeopleMaintenance  Telephone  ForeignWorker  \\\n",
       "0                      2                        1          0              1   \n",
       "1                      1                        1          1              1   \n",
       "2                      1                        2          1              1   \n",
       "\n",
       "   CheckingAccountStatus.lt.0  ...  OtherInstallmentPlans.Bank  \\\n",
       "0                           1  ...                           0   \n",
       "1                           0  ...                           0   \n",
       "2                           0  ...                           0   \n",
       "\n",
       "   OtherInstallmentPlans.Stores  OtherInstallmentPlans.None  Housing.Rent  \\\n",
       "0                             0                           1             0   \n",
       "1                             0                           1             0   \n",
       "2                             0                           1             0   \n",
       "\n",
       "   Housing.Own  Housing.ForFree  Job.UnemployedUnskilled  \\\n",
       "0            1                0                        0   \n",
       "1            1                0                        0   \n",
       "2            1                0                        0   \n",
       "\n",
       "   Job.UnskilledResident  Job.SkilledEmployee  \\\n",
       "0                      0                    1   \n",
       "1                      0                    1   \n",
       "2                      1                    0   \n",
       "\n",
       "   Job.Management.SelfEmp.HighlyQualified  \n",
       "0                                       0  \n",
       "1                                       0  \n",
       "2                                       0  \n",
       "\n",
       "[3 rows x 61 columns]"
      ]
     },
     "execution_count": 3,
     "metadata": {},
     "output_type": "execute_result"
    }
   ],
   "source": [
    "# store the predictors as (X) and response as (y) \n",
    "X=gcredit_df.drop(\"Class\", axis=1)\n",
    "y=gcredit_df[\"Class\"]\n",
    "X.head(3)"
   ]
  },
  {
   "cell_type": "code",
   "execution_count": 4,
   "metadata": {},
   "outputs": [
    {
     "data": {
      "text/plain": [
       "0    Good\n",
       "1     Bad\n",
       "2    Good\n",
       "3    Good\n",
       "4     Bad\n",
       "Name: Class, dtype: object"
      ]
     },
     "execution_count": 4,
     "metadata": {},
     "output_type": "execute_result"
    }
   ],
   "source": [
    "y.head(5)"
   ]
  },
  {
   "cell_type": "code",
   "execution_count": 5,
   "metadata": {},
   "outputs": [],
   "source": [
    "# Splitting the data into training and test data sets\n",
    "X_train, X_test, y_train, y_test = train_test_split(X, y, test_size=0.30, random_state=13 )"
   ]
  },
  {
   "cell_type": "code",
   "execution_count": 6,
   "metadata": {},
   "outputs": [
    {
     "name": "stdout",
     "output_type": "stream",
     "text": [
      "(700, 61)\n",
      "(300, 61)\n",
      "(700,)\n",
      "(300,)\n"
     ]
    }
   ],
   "source": [
    "# printing the shapes of the new X objects \n",
    "print(X_train.shape) \n",
    "print(X_test.shape) \n",
    "  \n",
    "# printing the shapes of the new y objects \n",
    "print(y_train.shape) \n",
    "print(y_test.shape)"
   ]
  },
  {
   "cell_type": "code",
   "execution_count": 7,
   "metadata": {},
   "outputs": [],
   "source": [
    "# training the model on training set\n",
    "gcdtc = DecisionTreeClassifier()\n",
    "gcdtc = gcdtc.fit(X_train, y_train)"
   ]
  },
  {
   "cell_type": "code",
   "execution_count": 8,
   "metadata": {},
   "outputs": [],
   "source": [
    "# making predictions on the testing set \n",
    "y_pred = gcdtc.predict(X_test)"
   ]
  },
  {
   "cell_type": "code",
   "execution_count": 9,
   "metadata": {},
   "outputs": [
    {
     "name": "stdout",
     "output_type": "stream",
     "text": [
      "Decision Tree model accuracy: 0.6866666666666666\n"
     ]
    }
   ],
   "source": [
    "# comparing actual response values (y_test) with predicted response values (y_pred) \n",
    "from sklearn import metrics \n",
    "print(\"Decision Tree model accuracy:\", metrics.accuracy_score(y_test, y_pred))"
   ]
  },
  {
   "cell_type": "code",
   "execution_count": 10,
   "metadata": {},
   "outputs": [
    {
     "name": "stdout",
     "output_type": "stream",
     "text": [
      "              precision    recall  f1-score   support\n",
      "\n",
      "         Bad       0.43      0.58      0.49        79\n",
      "        Good       0.83      0.72      0.77       221\n",
      "\n",
      "    accuracy                           0.69       300\n",
      "   macro avg       0.63      0.65      0.63       300\n",
      "weighted avg       0.72      0.69      0.70       300\n",
      "\n"
     ]
    }
   ],
   "source": [
    "# Display the results\n",
    "print(classification_report(y_test, y_pred))"
   ]
  },
  {
   "cell_type": "code",
   "execution_count": 11,
   "metadata": {},
   "outputs": [],
   "source": [
    "# Using Grid search to identify the best hyperparameters \n",
    "params = {\n",
    "    'max_depth' : [6, 7, 8, 9, 10, 11],\n",
    "    'max_features' : [\"sqrt\", \"log2\", None], \n",
    "    'min_samples_leaf': [5, 6, 7, 8, 9, 10, 11],\n",
    "    'min_samples_split': [8, 15, 20,21, 22, 23, 24, 25, 26, 27, 30],\n",
    "}\n",
    "\n",
    "cg = GridSearchCV(estimator = gcdtc, param_grid = params, \n",
    "                          cv = 15, n_jobs = -1, verbose = 1)"
   ]
  },
  {
   "cell_type": "code",
   "execution_count": 12,
   "metadata": {},
   "outputs": [
    {
     "name": "stdout",
     "output_type": "stream",
     "text": [
      "Fitting 15 folds for each of 1386 candidates, totalling 20790 fits\n"
     ]
    },
    {
     "name": "stderr",
     "output_type": "stream",
     "text": [
      "[Parallel(n_jobs=-1)]: Using backend LokyBackend with 8 concurrent workers.\n",
      "[Parallel(n_jobs=-1)]: Done  34 tasks      | elapsed:    1.0s\n",
      "[Parallel(n_jobs=-1)]: Done 5128 tasks      | elapsed:    4.8s\n",
      "[Parallel(n_jobs=-1)]: Done 20213 tasks      | elapsed:   15.7s\n",
      "[Parallel(n_jobs=-1)]: Done 20790 out of 20790 | elapsed:   16.1s finished\n"
     ]
    },
    {
     "data": {
      "text/plain": [
       "{'max_depth': 6,\n",
       " 'max_features': None,\n",
       " 'min_samples_leaf': 8,\n",
       " 'min_samples_split': 30}"
      ]
     },
     "execution_count": 12,
     "metadata": {},
     "output_type": "execute_result"
    }
   ],
   "source": [
    "#Fitting the model with Grid search\n",
    "cg.fit(X_train, y_train)\n",
    "cg.best_params_"
   ]
  },
  {
   "cell_type": "code",
   "execution_count": 13,
   "metadata": {},
   "outputs": [
    {
     "data": {
      "text/plain": [
       "0.7460684551341349"
      ]
     },
     "execution_count": 13,
     "metadata": {},
     "output_type": "execute_result"
    }
   ],
   "source": [
    "cg.best_score_"
   ]
  },
  {
   "cell_type": "code",
   "execution_count": 14,
   "metadata": {},
   "outputs": [
    {
     "data": {
      "text/plain": [
       "[Text(237.37554176022218, 211.7178947368421, 'X[12] <= 0.5\\ngini = 0.432\\nsamples = 700\\nvalue = [221, 479]'),\n",
       " Text(191.1780156877807, 200.2736842105263, 'X[0] <= 31.5\\ngini = 0.493\\nsamples = 421\\nvalue = [185, 236]'),\n",
       " Text(149.1592457456866, 188.82947368421054, 'X[13] <= 0.5\\ngini = 0.471\\nsamples = 342\\nvalue = [130, 212]'),\n",
       " Text(119.26656523280549, 177.38526315789474, 'X[14] <= 0.5\\ngini = 0.458\\nsamples = 326\\nvalue = [116, 210]'),\n",
       " Text(72.1420408886788, 165.94105263157894, 'X[0] <= 11.5\\ngini = 0.441\\nsamples = 304\\nvalue = [100, 204]'),\n",
       " Text(31.968612621129758, 154.49684210526317, 'X[1] <= 9252.0\\ngini = 0.251\\nsamples = 68\\nvalue = [10, 58]'),\n",
       " Text(29.436445284802648, 143.05263157894737, 'X[20] <= 0.5\\ngini = 0.213\\nsamples = 66\\nvalue = [8, 58]'),\n",
       " Text(18.358213188371543, 131.60842105263157, 'X[32] <= 0.5\\ngini = 0.135\\nsamples = 55\\nvalue = [4, 51]'),\n",
       " Text(11.394753013471993, 120.16421052631578, 'X[4] <= 22.5\\ngini = 0.107\\nsamples = 53\\nvalue = [3, 50]'),\n",
       " Text(5.064334672654219, 108.72, 'X[9] <= 0.5\\ngini = 0.5\\nsamples = 2\\nvalue = [1, 1]'),\n",
       " Text(2.5321673363271096, 97.27578947368421, 'gini = 0.0\\nsamples = 1\\nvalue = [0, 1]'),\n",
       " Text(7.596502008981329, 97.27578947368421, 'gini = 0.0\\nsamples = 1\\nvalue = [1, 0]'),\n",
       " Text(17.725171354289767, 108.72, 'X[38] <= 0.5\\ngini = 0.075\\nsamples = 51\\nvalue = [2, 49]'),\n",
       " Text(12.660836681635548, 97.27578947368421, 'X[1] <= 749.0\\ngini = 0.041\\nsamples = 48\\nvalue = [1, 47]'),\n",
       " Text(10.128669345308438, 85.83157894736843, 'X[1] <= 738.0\\ngini = 0.18\\nsamples = 10\\nvalue = [1, 9]'),\n",
       " Text(7.596502008981329, 74.38736842105263, 'gini = 0.0\\nsamples = 9\\nvalue = [0, 9]'),\n",
       " Text(12.660836681635548, 74.38736842105263, 'gini = 0.0\\nsamples = 1\\nvalue = [1, 0]'),\n",
       " Text(15.193004017962657, 85.83157894736843, 'gini = 0.0\\nsamples = 38\\nvalue = [0, 38]'),\n",
       " Text(22.789506026943986, 97.27578947368421, 'X[1] <= 1280.5\\ngini = 0.444\\nsamples = 3\\nvalue = [1, 2]'),\n",
       " Text(20.257338690616876, 85.83157894736843, 'gini = 0.0\\nsamples = 1\\nvalue = [1, 0]'),\n",
       " Text(25.321673363271096, 85.83157894736843, 'gini = 0.0\\nsamples = 2\\nvalue = [0, 2]'),\n",
       " Text(25.321673363271096, 120.16421052631578, 'X[40] <= 0.5\\ngini = 0.5\\nsamples = 2\\nvalue = [1, 1]'),\n",
       " Text(22.789506026943986, 108.72, 'gini = 0.0\\nsamples = 1\\nvalue = [1, 0]'),\n",
       " Text(27.853840699598205, 108.72, 'gini = 0.0\\nsamples = 1\\nvalue = [0, 1]'),\n",
       " Text(40.51467738123375, 131.60842105263157, 'X[1] <= 1256.0\\ngini = 0.463\\nsamples = 11\\nvalue = [4, 7]'),\n",
       " Text(35.450342708579534, 120.16421052631578, 'X[9] <= 0.5\\ngini = 0.375\\nsamples = 4\\nvalue = [3, 1]'),\n",
       " Text(32.91817537225242, 108.72, 'gini = 0.0\\nsamples = 3\\nvalue = [3, 0]'),\n",
       " Text(37.98251004490665, 108.72, 'gini = 0.0\\nsamples = 1\\nvalue = [0, 1]'),\n",
       " Text(45.57901205388797, 120.16421052631578, 'X[4] <= 40.0\\ngini = 0.245\\nsamples = 7\\nvalue = [1, 6]'),\n",
       " Text(43.04684471756086, 108.72, 'gini = 0.0\\nsamples = 6\\nvalue = [0, 6]'),\n",
       " Text(48.111179390215085, 108.72, 'gini = 0.0\\nsamples = 1\\nvalue = [1, 0]'),\n",
       " Text(34.50077995745687, 143.05263157894737, 'gini = 0.0\\nsamples = 2\\nvalue = [2, 0]'),\n",
       " Text(112.31546915622785, 154.49684210526317, 'X[1] <= 1290.0\\ngini = 0.472\\nsamples = 236\\nvalue = [90, 146]'),\n",
       " Text(73.43285275348617, 143.05263157894737, 'X[47] <= 0.5\\ngini = 0.477\\nsamples = 56\\nvalue = [34, 22]'),\n",
       " Text(60.77201607185063, 131.60842105263157, 'X[4] <= 56.0\\ngini = 0.382\\nsamples = 35\\nvalue = [26, 9]'),\n",
       " Text(55.70768139919641, 120.16421052631578, 'X[39] <= 0.5\\ngini = 0.278\\nsamples = 30\\nvalue = [25, 5]'),\n",
       " Text(53.1755140628693, 108.72, 'X[48] <= 0.5\\ngini = 0.191\\nsamples = 28\\nvalue = [25, 3]'),\n",
       " Text(50.64334672654219, 97.27578947368421, 'gini = 0.0\\nsamples = 17\\nvalue = [17, 0]'),\n",
       " Text(55.70768139919641, 97.27578947368421, 'X[41] <= 0.5\\ngini = 0.397\\nsamples = 11\\nvalue = [8, 3]'),\n",
       " Text(50.64334672654219, 85.83157894736843, 'X[7] <= 0.5\\ngini = 0.219\\nsamples = 8\\nvalue = [7, 1]'),\n",
       " Text(48.111179390215085, 74.38736842105263, 'gini = 0.0\\nsamples = 1\\nvalue = [0, 1]'),\n",
       " Text(53.1755140628693, 74.38736842105263, 'gini = 0.0\\nsamples = 7\\nvalue = [7, 0]'),\n",
       " Text(60.77201607185063, 85.83157894736843, 'X[9] <= 0.5\\ngini = 0.444\\nsamples = 3\\nvalue = [1, 2]'),\n",
       " Text(58.23984873552352, 74.38736842105263, 'gini = 0.0\\nsamples = 2\\nvalue = [0, 2]'),\n",
       " Text(63.304183408177735, 74.38736842105263, 'gini = 0.0\\nsamples = 1\\nvalue = [1, 0]'),\n",
       " Text(58.23984873552352, 108.72, 'gini = 0.0\\nsamples = 2\\nvalue = [0, 2]'),\n",
       " Text(65.83635074450484, 120.16421052631578, 'X[55] <= 0.5\\ngini = 0.32\\nsamples = 5\\nvalue = [1, 4]'),\n",
       " Text(63.304183408177735, 108.72, 'gini = 0.0\\nsamples = 3\\nvalue = [0, 3]'),\n",
       " Text(68.36851808083196, 108.72, 'X[5] <= 1.5\\ngini = 0.5\\nsamples = 2\\nvalue = [1, 1]'),\n",
       " Text(65.83635074450484, 97.27578947368421, 'gini = 0.0\\nsamples = 1\\nvalue = [0, 1]'),\n",
       " Text(70.90068541715907, 97.27578947368421, 'gini = 0.0\\nsamples = 1\\nvalue = [1, 0]'),\n",
       " Text(86.09368943512172, 131.60842105263157, 'X[1] <= 1195.5\\ngini = 0.472\\nsamples = 21\\nvalue = [8, 13]'),\n",
       " Text(83.56152209879461, 120.16421052631578, 'X[31] <= 0.5\\ngini = 0.401\\nsamples = 18\\nvalue = [5, 13]'),\n",
       " Text(81.0293547624675, 108.72, 'X[0] <= 15.0\\ngini = 0.305\\nsamples = 16\\nvalue = [3, 13]'),\n",
       " Text(75.9650200898133, 97.27578947368421, 'X[1] <= 800.0\\ngini = 0.142\\nsamples = 13\\nvalue = [1, 12]'),\n",
       " Text(73.43285275348617, 85.83157894736843, 'X[21] <= 0.5\\ngini = 0.375\\nsamples = 4\\nvalue = [1, 3]'),\n",
       " Text(70.90068541715907, 74.38736842105263, 'gini = 0.0\\nsamples = 1\\nvalue = [1, 0]'),\n",
       " Text(75.9650200898133, 74.38736842105263, 'gini = 0.0\\nsamples = 3\\nvalue = [0, 3]'),\n",
       " Text(78.4971874261404, 85.83157894736843, 'gini = 0.0\\nsamples = 9\\nvalue = [0, 9]'),\n",
       " Text(86.09368943512172, 97.27578947368421, 'X[5] <= 1.5\\ngini = 0.444\\nsamples = 3\\nvalue = [2, 1]'),\n",
       " Text(83.56152209879461, 85.83157894736843, 'gini = 0.0\\nsamples = 2\\nvalue = [2, 0]'),\n",
       " Text(88.62585677144884, 85.83157894736843, 'gini = 0.0\\nsamples = 1\\nvalue = [0, 1]'),\n",
       " Text(86.09368943512172, 108.72, 'gini = 0.0\\nsamples = 2\\nvalue = [2, 0]'),\n",
       " Text(88.62585677144884, 120.16421052631578, 'gini = 0.0\\nsamples = 3\\nvalue = [3, 0]'),\n",
       " Text(151.19808555896952, 143.05263157894737, 'X[1] <= 10975.5\\ngini = 0.429\\nsamples = 180\\nvalue = [56, 124]'),\n",
       " Text(148.6659182226424, 131.60842105263157, 'X[29] <= 0.5\\ngini = 0.42\\nsamples = 177\\nvalue = [53, 124]'),\n",
       " Text(121.54403214370126, 120.16421052631578, 'X[4] <= 28.5\\ngini = 0.324\\nsamples = 59\\nvalue = [12, 47]'),\n",
       " Text(106.3510281257386, 108.72, 'X[7] <= 0.5\\ngini = 0.463\\nsamples = 22\\nvalue = [8, 14]'),\n",
       " Text(96.22235878043017, 97.27578947368421, 'X[0] <= 18.0\\ngini = 0.444\\nsamples = 6\\nvalue = [4, 2]'),\n",
       " Text(93.69019144410305, 85.83157894736843, 'gini = 0.0\\nsamples = 3\\nvalue = [3, 0]'),\n",
       " Text(98.75452611675728, 85.83157894736843, 'X[40] <= 0.5\\ngini = 0.444\\nsamples = 3\\nvalue = [1, 2]'),\n",
       " Text(96.22235878043017, 74.38736842105263, 'gini = 0.0\\nsamples = 1\\nvalue = [1, 0]'),\n",
       " Text(101.28669345308438, 74.38736842105263, 'gini = 0.0\\nsamples = 2\\nvalue = [0, 2]'),\n",
       " Text(116.47969747104705, 97.27578947368421, 'X[0] <= 21.0\\ngini = 0.375\\nsamples = 16\\nvalue = [4, 12]'),\n",
       " Text(108.88319546206571, 85.83157894736843, 'X[20] <= 0.5\\ngini = 0.198\\nsamples = 9\\nvalue = [1, 8]'),\n",
       " Text(106.3510281257386, 74.38736842105263, 'gini = 0.0\\nsamples = 7\\nvalue = [0, 7]'),\n",
       " Text(111.41536279839282, 74.38736842105263, 'X[40] <= 0.5\\ngini = 0.5\\nsamples = 2\\nvalue = [1, 1]'),\n",
       " Text(108.88319546206571, 62.943157894736856, 'gini = 0.0\\nsamples = 1\\nvalue = [0, 1]'),\n",
       " Text(113.94753013471993, 62.943157894736856, 'gini = 0.0\\nsamples = 1\\nvalue = [1, 0]'),\n",
       " Text(124.07619948002836, 85.83157894736843, 'X[50] <= 0.5\\ngini = 0.49\\nsamples = 7\\nvalue = [3, 4]'),\n",
       " Text(121.54403214370126, 74.38736842105263, 'X[33] <= 0.5\\ngini = 0.48\\nsamples = 5\\nvalue = [3, 2]'),\n",
       " Text(119.01186480737415, 62.943157894736856, 'gini = 0.0\\nsamples = 2\\nvalue = [2, 0]'),\n",
       " Text(124.07619948002836, 62.943157894736856, 'X[20] <= 0.5\\ngini = 0.444\\nsamples = 3\\nvalue = [1, 2]'),\n",
       " Text(121.54403214370126, 51.49894736842106, 'gini = 0.0\\nsamples = 2\\nvalue = [0, 2]'),\n",
       " Text(126.60836681635547, 51.49894736842106, 'gini = 0.0\\nsamples = 1\\nvalue = [1, 0]'),\n",
       " Text(126.60836681635547, 74.38736842105263, 'gini = 0.0\\nsamples = 2\\nvalue = [0, 2]'),\n",
       " Text(136.73703616166392, 108.72, 'X[4] <= 50.5\\ngini = 0.193\\nsamples = 37\\nvalue = [4, 33]'),\n",
       " Text(131.67270148900968, 97.27578947368421, 'X[1] <= 1377.0\\ngini = 0.111\\nsamples = 34\\nvalue = [2, 32]'),\n",
       " Text(129.1405341526826, 85.83157894736843, 'gini = 0.0\\nsamples = 1\\nvalue = [1, 0]'),\n",
       " Text(134.2048688253368, 85.83157894736843, 'X[52] <= 0.5\\ngini = 0.059\\nsamples = 33\\nvalue = [1, 32]'),\n",
       " Text(131.67270148900968, 74.38736842105263, 'gini = 0.0\\nsamples = 30\\nvalue = [0, 30]'),\n",
       " Text(136.73703616166392, 74.38736842105263, 'X[60] <= 0.5\\ngini = 0.444\\nsamples = 3\\nvalue = [1, 2]'),\n",
       " Text(134.2048688253368, 62.943157894736856, 'gini = 0.0\\nsamples = 2\\nvalue = [0, 2]'),\n",
       " Text(139.26920349799101, 62.943157894736856, 'gini = 0.0\\nsamples = 1\\nvalue = [1, 0]'),\n",
       " Text(141.80137083431813, 97.27578947368421, 'X[48] <= 0.5\\ngini = 0.444\\nsamples = 3\\nvalue = [2, 1]'),\n",
       " Text(139.26920349799101, 85.83157894736843, 'gini = 0.0\\nsamples = 1\\nvalue = [0, 1]'),\n",
       " Text(144.33353817064526, 85.83157894736843, 'gini = 0.0\\nsamples = 2\\nvalue = [2, 0]'),\n",
       " Text(175.78780430158355, 120.16421052631578, 'X[1] <= 1900.5\\ngini = 0.453\\nsamples = 118\\nvalue = [41, 77]'),\n",
       " Text(156.9943748522808, 108.72, 'X[0] <= 19.5\\ngini = 0.278\\nsamples = 30\\nvalue = [5, 25]'),\n",
       " Text(151.9300401796266, 97.27578947368421, 'X[52] <= 0.5\\ngini = 0.087\\nsamples = 22\\nvalue = [1, 21]'),\n",
       " Text(149.39787284329947, 85.83157894736843, 'gini = 0.0\\nsamples = 21\\nvalue = [0, 21]'),\n",
       " Text(154.46220751595368, 85.83157894736843, 'gini = 0.0\\nsamples = 1\\nvalue = [1, 0]'),\n",
       " Text(162.058709524935, 97.27578947368421, 'X[37] <= 0.5\\ngini = 0.5\\nsamples = 8\\nvalue = [4, 4]'),\n",
       " Text(159.5265421886079, 85.83157894736843, 'X[20] <= 0.5\\ngini = 0.32\\nsamples = 5\\nvalue = [4, 1]'),\n",
       " Text(156.9943748522808, 74.38736842105263, 'gini = 0.0\\nsamples = 4\\nvalue = [4, 0]'),\n",
       " Text(162.058709524935, 74.38736842105263, 'gini = 0.0\\nsamples = 1\\nvalue = [0, 1]'),\n",
       " Text(164.59087686126213, 85.83157894736843, 'gini = 0.0\\nsamples = 3\\nvalue = [0, 3]'),\n",
       " Text(194.58123375088633, 108.72, 'X[1] <= 2336.0\\ngini = 0.483\\nsamples = 88\\nvalue = [36, 52]'),\n",
       " Text(174.71954620657056, 97.27578947368421, 'X[0] <= 15.0\\ngini = 0.375\\nsamples = 16\\nvalue = [12, 4]'),\n",
       " Text(169.65521153391634, 85.83157894736843, 'X[20] <= 0.5\\ngini = 0.48\\nsamples = 5\\nvalue = [2, 3]'),\n",
       " Text(167.12304419758922, 74.38736842105263, 'gini = 0.0\\nsamples = 3\\nvalue = [0, 3]'),\n",
       " Text(172.18737887024344, 74.38736842105263, 'gini = 0.0\\nsamples = 2\\nvalue = [2, 0]'),\n",
       " Text(179.78388087922477, 85.83157894736843, 'X[21] <= 0.5\\ngini = 0.165\\nsamples = 11\\nvalue = [10, 1]'),\n",
       " Text(177.25171354289768, 74.38736842105263, 'gini = 0.0\\nsamples = 9\\nvalue = [9, 0]'),\n",
       " Text(182.3160482155519, 74.38736842105263, 'X[37] <= 0.5\\ngini = 0.5\\nsamples = 2\\nvalue = [1, 1]'),\n",
       " Text(179.78388087922477, 62.943157894736856, 'gini = 0.0\\nsamples = 1\\nvalue = [1, 0]'),\n",
       " Text(184.848215551879, 62.943157894736856, 'gini = 0.0\\nsamples = 1\\nvalue = [0, 1]'),\n",
       " Text(214.4429212952021, 97.27578947368421, 'X[18] <= 0.5\\ngini = 0.444\\nsamples = 72\\nvalue = [24, 48]'),\n",
       " Text(199.72469865280075, 85.83157894736843, 'X[1] <= 2497.5\\ngini = 0.371\\nsamples = 57\\nvalue = [14, 43]'),\n",
       " Text(192.44471756086034, 74.38736842105263, 'X[53] <= 0.5\\ngini = 0.49\\nsamples = 7\\nvalue = [4, 3]'),\n",
       " Text(189.91255022453322, 62.943157894736856, 'gini = 0.0\\nsamples = 3\\nvalue = [0, 3]'),\n",
       " Text(194.97688489718743, 62.943157894736856, 'gini = 0.0\\nsamples = 4\\nvalue = [4, 0]'),\n",
       " Text(207.0046797447412, 74.38736842105263, 'X[1] <= 3169.5\\ngini = 0.32\\nsamples = 50\\nvalue = [10, 40]'),\n",
       " Text(200.04121956984164, 62.943157894736856, 'X[58] <= 0.5\\ngini = 0.117\\nsamples = 16\\nvalue = [1, 15]'),\n",
       " Text(197.50905223351455, 51.49894736842106, 'gini = 0.0\\nsamples = 14\\nvalue = [0, 14]'),\n",
       " Text(202.57338690616876, 51.49894736842106, 'X[41] <= 0.5\\ngini = 0.5\\nsamples = 2\\nvalue = [1, 1]'),\n",
       " Text(200.04121956984164, 40.05473684210526, 'gini = 0.0\\nsamples = 1\\nvalue = [0, 1]'),\n",
       " Text(205.10555424249588, 40.05473684210526, 'gini = 0.0\\nsamples = 1\\nvalue = [1, 0]'),\n",
       " Text(213.96813991964075, 62.943157894736856, 'X[1] <= 3415.0\\ngini = 0.389\\nsamples = 34\\nvalue = [9, 25]'),\n",
       " Text(211.43597258331366, 51.49894736842106, 'gini = 0.0\\nsamples = 4\\nvalue = [4, 0]'),\n",
       " Text(216.50030725596787, 51.49894736842106, 'X[39] <= 0.5\\ngini = 0.278\\nsamples = 30\\nvalue = [5, 25]'),\n",
       " Text(210.1698889151501, 40.05473684210526, 'X[4] <= 41.5\\ngini = 0.198\\nsamples = 27\\nvalue = [3, 24]'),\n",
       " Text(205.10555424249588, 28.610526315789485, 'X[51] <= 0.5\\ngini = 0.087\\nsamples = 22\\nvalue = [1, 21]'),\n",
       " Text(202.57338690616876, 17.166315789473686, 'gini = 0.0\\nsamples = 20\\nvalue = [0, 20]'),\n",
       " Text(207.63772157882298, 17.166315789473686, 'X[4] <= 29.0\\ngini = 0.5\\nsamples = 2\\nvalue = [1, 1]'),\n",
       " Text(205.10555424249588, 5.722105263157886, 'gini = 0.0\\nsamples = 1\\nvalue = [1, 0]'),\n",
       " Text(210.1698889151501, 5.722105263157886, 'gini = 0.0\\nsamples = 1\\nvalue = [0, 1]'),\n",
       " Text(215.2342235878043, 28.610526315789485, 'X[15] <= 0.5\\ngini = 0.48\\nsamples = 5\\nvalue = [2, 3]'),\n",
       " Text(212.7020562514772, 17.166315789473686, 'gini = 0.0\\nsamples = 3\\nvalue = [0, 3]'),\n",
       " Text(217.76639092413143, 17.166315789473686, 'gini = 0.0\\nsamples = 2\\nvalue = [2, 0]'),\n",
       " Text(222.83072559678564, 40.05473684210526, 'X[0] <= 27.0\\ngini = 0.444\\nsamples = 3\\nvalue = [2, 1]'),\n",
       " Text(220.29855826045852, 28.610526315789485, 'gini = 0.0\\nsamples = 2\\nvalue = [2, 0]'),\n",
       " Text(225.36289293311276, 28.610526315789485, 'gini = 0.0\\nsamples = 1\\nvalue = [0, 1]'),\n",
       " Text(229.1611439376034, 85.83157894736843, 'X[2] <= 2.5\\ngini = 0.444\\nsamples = 15\\nvalue = [10, 5]'),\n",
       " Text(226.6289766012763, 74.38736842105263, 'X[7] <= 0.5\\ngini = 0.494\\nsamples = 9\\nvalue = [4, 5]'),\n",
       " Text(224.0968092649492, 62.943157894736856, 'X[50] <= 0.5\\ngini = 0.32\\nsamples = 5\\nvalue = [4, 1]'),\n",
       " Text(221.56464192862208, 51.49894736842106, 'gini = 0.0\\nsamples = 4\\nvalue = [4, 0]'),\n",
       " Text(226.6289766012763, 51.49894736842106, 'gini = 0.0\\nsamples = 1\\nvalue = [0, 1]'),\n",
       " Text(229.1611439376034, 62.943157894736856, 'gini = 0.0\\nsamples = 4\\nvalue = [0, 4]'),\n",
       " Text(231.69331127393053, 74.38736842105263, 'gini = 0.0\\nsamples = 6\\nvalue = [6, 0]'),\n",
       " Text(153.73025289529662, 131.60842105263157, 'gini = 0.0\\nsamples = 3\\nvalue = [3, 0]'),\n",
       " Text(166.3910895769322, 165.94105263157894, 'X[21] <= 0.5\\ngini = 0.397\\nsamples = 22\\nvalue = [16, 6]'),\n",
       " Text(158.79458756795086, 154.49684210526317, 'X[52] <= 0.5\\ngini = 0.219\\nsamples = 16\\nvalue = [14, 2]'),\n",
       " Text(156.26242023162374, 143.05263157894737, 'gini = 0.0\\nsamples = 13\\nvalue = [13, 0]'),\n",
       " Text(161.32675490427795, 143.05263157894737, 'X[20] <= 0.5\\ngini = 0.444\\nsamples = 3\\nvalue = [1, 2]'),\n",
       " Text(158.79458756795086, 131.60842105263157, 'gini = 0.0\\nsamples = 1\\nvalue = [1, 0]'),\n",
       " Text(163.85892224060507, 131.60842105263157, 'gini = 0.0\\nsamples = 2\\nvalue = [0, 2]'),\n",
       " Text(173.9875915859135, 154.49684210526317, 'X[41] <= 0.5\\ngini = 0.444\\nsamples = 6\\nvalue = [2, 4]'),\n",
       " Text(171.4554242495864, 143.05263157894737, 'X[54] <= 0.5\\ngini = 0.444\\nsamples = 3\\nvalue = [2, 1]'),\n",
       " Text(168.92325691325928, 131.60842105263157, 'gini = 0.0\\nsamples = 2\\nvalue = [2, 0]'),\n",
       " Text(173.9875915859135, 131.60842105263157, 'gini = 0.0\\nsamples = 1\\nvalue = [0, 1]'),\n",
       " Text(176.5197589222406, 143.05263157894737, 'gini = 0.0\\nsamples = 3\\nvalue = [0, 3]'),\n",
       " Text(179.05192625856773, 177.38526315789474, 'X[0] <= 28.5\\ngini = 0.219\\nsamples = 16\\nvalue = [14, 2]'),\n",
       " Text(176.5197589222406, 165.94105263157894, 'gini = 0.0\\nsamples = 13\\nvalue = [13, 0]'),\n",
       " Text(181.58409359489482, 165.94105263157894, 'X[30] <= 0.5\\ngini = 0.444\\nsamples = 3\\nvalue = [1, 2]'),\n",
       " Text(179.05192625856773, 154.49684210526317, 'gini = 0.0\\nsamples = 2\\nvalue = [0, 2]'),\n",
       " Text(184.11626093122194, 154.49684210526317, 'gini = 0.0\\nsamples = 1\\nvalue = [1, 0]'),\n",
       " Text(233.19678562987474, 188.82947368421054, 'X[33] <= 0.5\\ngini = 0.423\\nsamples = 79\\nvalue = [55, 24]'),\n",
       " Text(223.7011581186481, 177.38526315789474, 'X[0] <= 43.5\\ngini = 0.331\\nsamples = 67\\nvalue = [53, 14]'),\n",
       " Text(212.30640510517608, 165.94105263157894, 'X[1] <= 3034.5\\ngini = 0.444\\nsamples = 39\\nvalue = [26, 13]'),\n",
       " Text(209.774237768849, 154.49684210526317, 'gini = 0.0\\nsamples = 8\\nvalue = [8, 0]'),\n",
       " Text(214.8385724415032, 154.49684210526317, 'X[4] <= 29.5\\ngini = 0.487\\nsamples = 31\\nvalue = [18, 13]'),\n",
       " Text(204.70990309619475, 143.05263157894737, 'X[11] <= 0.5\\ngini = 0.305\\nsamples = 16\\nvalue = [13, 3]'),\n",
       " Text(199.64556842354054, 131.60842105263157, 'X[46] <= 0.5\\ngini = 0.142\\nsamples = 13\\nvalue = [12, 1]'),\n",
       " Text(197.11340108721345, 120.16421052631578, 'gini = 0.0\\nsamples = 11\\nvalue = [11, 0]'),\n",
       " Text(202.17773575986766, 120.16421052631578, 'X[36] <= 0.5\\ngini = 0.5\\nsamples = 2\\nvalue = [1, 1]'),\n",
       " Text(199.64556842354054, 108.72, 'gini = 0.0\\nsamples = 1\\nvalue = [0, 1]'),\n",
       " Text(204.70990309619475, 108.72, 'gini = 0.0\\nsamples = 1\\nvalue = [1, 0]'),\n",
       " Text(209.774237768849, 131.60842105263157, 'X[4] <= 25.0\\ngini = 0.444\\nsamples = 3\\nvalue = [1, 2]'),\n",
       " Text(207.24207043252187, 120.16421052631578, 'gini = 0.0\\nsamples = 2\\nvalue = [0, 2]'),\n",
       " Text(212.30640510517608, 120.16421052631578, 'gini = 0.0\\nsamples = 1\\nvalue = [1, 0]'),\n",
       " Text(224.96724178681163, 143.05263157894737, 'X[37] <= 0.5\\ngini = 0.444\\nsamples = 15\\nvalue = [5, 10]'),\n",
       " Text(219.90290711415741, 131.60842105263157, 'X[13] <= 0.5\\ngini = 0.298\\nsamples = 11\\nvalue = [2, 9]'),\n",
       " Text(217.37073977783032, 120.16421052631578, 'X[52] <= 0.5\\ngini = 0.18\\nsamples = 10\\nvalue = [1, 9]'),\n",
       " Text(214.8385724415032, 108.72, 'gini = 0.0\\nsamples = 9\\nvalue = [0, 9]'),\n",
       " Text(219.90290711415741, 108.72, 'gini = 0.0\\nsamples = 1\\nvalue = [1, 0]'),\n",
       " Text(222.43507445048454, 120.16421052631578, 'gini = 0.0\\nsamples = 1\\nvalue = [1, 0]'),\n",
       " Text(230.03157645946587, 131.60842105263157, 'X[4] <= 36.5\\ngini = 0.375\\nsamples = 4\\nvalue = [3, 1]'),\n",
       " Text(227.49940912313875, 120.16421052631578, 'gini = 0.0\\nsamples = 1\\nvalue = [0, 1]'),\n",
       " Text(232.56374379579296, 120.16421052631578, 'gini = 0.0\\nsamples = 3\\nvalue = [3, 0]'),\n",
       " Text(235.09591113212008, 165.94105263157894, 'X[3] <= 1.5\\ngini = 0.069\\nsamples = 28\\nvalue = [27, 1]'),\n",
       " Text(232.56374379579296, 154.49684210526317, 'X[2] <= 2.5\\ngini = 0.5\\nsamples = 2\\nvalue = [1, 1]'),\n",
       " Text(230.03157645946587, 143.05263157894737, 'gini = 0.0\\nsamples = 1\\nvalue = [1, 0]'),\n",
       " Text(235.09591113212008, 143.05263157894737, 'gini = 0.0\\nsamples = 1\\nvalue = [0, 1]'),\n",
       " Text(237.6280784684472, 154.49684210526317, 'gini = 0.0\\nsamples = 26\\nvalue = [26, 0]'),\n",
       " Text(242.6924131411014, 177.38526315789474, 'X[10] <= 0.5\\ngini = 0.278\\nsamples = 12\\nvalue = [2, 10]'),\n",
       " Text(240.1602458047743, 165.94105263157894, 'gini = 0.0\\nsamples = 2\\nvalue = [2, 0]'),\n",
       " Text(245.2245804774285, 165.94105263157894, 'gini = 0.0\\nsamples = 10\\nvalue = [0, 10]'),\n",
       " Text(283.5730678326637, 200.2736842105263, 'X[53] <= 0.5\\ngini = 0.225\\nsamples = 279\\nvalue = [36, 243]'),\n",
       " Text(265.4819191680454, 188.82947368421054, 'X[27] <= 0.5\\ngini = 0.423\\nsamples = 46\\nvalue = [14, 32]'),\n",
       " Text(257.88541715906405, 177.38526315789474, 'X[40] <= 0.5\\ngini = 0.355\\nsamples = 39\\nvalue = [9, 30]'),\n",
       " Text(250.28891515008274, 165.94105263157894, 'X[29] <= 0.5\\ngini = 0.245\\nsamples = 28\\nvalue = [4, 24]'),\n",
       " Text(247.75674781375562, 154.49684210526317, 'gini = 0.0\\nsamples = 15\\nvalue = [0, 15]'),\n",
       " Text(252.82108248640984, 154.49684210526317, 'X[18] <= 0.5\\ngini = 0.426\\nsamples = 13\\nvalue = [4, 9]'),\n",
       " Text(250.28891515008274, 143.05263157894737, 'X[1] <= 1056.0\\ngini = 0.298\\nsamples = 11\\nvalue = [2, 9]'),\n",
       " Text(247.75674781375562, 131.60842105263157, 'gini = 0.0\\nsamples = 1\\nvalue = [1, 0]'),\n",
       " Text(252.82108248640984, 131.60842105263157, 'X[55] <= 0.5\\ngini = 0.18\\nsamples = 10\\nvalue = [1, 9]'),\n",
       " Text(250.28891515008274, 120.16421052631578, 'X[1] <= 3964.5\\ngini = 0.5\\nsamples = 2\\nvalue = [1, 1]'),\n",
       " Text(247.75674781375562, 108.72, 'gini = 0.0\\nsamples = 1\\nvalue = [1, 0]'),\n",
       " Text(252.82108248640984, 108.72, 'gini = 0.0\\nsamples = 1\\nvalue = [0, 1]'),\n",
       " Text(255.35324982273696, 120.16421052631578, 'gini = 0.0\\nsamples = 8\\nvalue = [0, 8]'),\n",
       " Text(255.35324982273696, 143.05263157894737, 'gini = 0.0\\nsamples = 2\\nvalue = [2, 0]'),\n",
       " Text(265.4819191680454, 165.94105263157894, 'X[33] <= 0.5\\ngini = 0.496\\nsamples = 11\\nvalue = [5, 6]'),\n",
       " Text(262.9497518317183, 154.49684210526317, 'X[35] <= 0.5\\ngini = 0.375\\nsamples = 8\\nvalue = [2, 6]'),\n",
       " Text(260.41758449539117, 143.05263157894737, 'gini = 0.0\\nsamples = 5\\nvalue = [0, 5]'),\n",
       " Text(265.4819191680454, 143.05263157894737, 'X[21] <= 0.5\\ngini = 0.444\\nsamples = 3\\nvalue = [2, 1]'),\n",
       " Text(262.9497518317183, 131.60842105263157, 'gini = 0.0\\nsamples = 2\\nvalue = [2, 0]'),\n",
       " Text(268.01408650437253, 131.60842105263157, 'gini = 0.0\\nsamples = 1\\nvalue = [0, 1]'),\n",
       " Text(268.01408650437253, 154.49684210526317, 'gini = 0.0\\nsamples = 3\\nvalue = [3, 0]'),\n",
       " Text(273.0784211770267, 177.38526315789474, 'X[4] <= 44.0\\ngini = 0.408\\nsamples = 7\\nvalue = [5, 2]'),\n",
       " Text(270.5462538406996, 165.94105263157894, 'gini = 0.0\\nsamples = 5\\nvalue = [5, 0]'),\n",
       " Text(275.61058851335383, 165.94105263157894, 'gini = 0.0\\nsamples = 2\\nvalue = [0, 2]'),\n",
       " Text(301.664216497282, 188.82947368421054, 'X[4] <= 22.5\\ngini = 0.171\\nsamples = 233\\nvalue = [22, 211]'),\n",
       " Text(283.20709052233514, 177.38526315789474, 'X[29] <= 0.5\\ngini = 0.459\\nsamples = 14\\nvalue = [5, 9]'),\n",
       " Text(280.6749231860081, 165.94105263157894, 'gini = 0.0\\nsamples = 6\\nvalue = [0, 6]'),\n",
       " Text(285.73925785866226, 165.94105263157894, 'X[2] <= 2.5\\ngini = 0.469\\nsamples = 8\\nvalue = [5, 3]'),\n",
       " Text(283.20709052233514, 154.49684210526317, 'X[3] <= 3.0\\ngini = 0.375\\nsamples = 4\\nvalue = [1, 3]'),\n",
       " Text(280.6749231860081, 143.05263157894737, 'gini = 0.0\\nsamples = 1\\nvalue = [1, 0]'),\n",
       " Text(285.73925785866226, 143.05263157894737, 'gini = 0.0\\nsamples = 3\\nvalue = [0, 3]'),\n",
       " Text(288.2714251949894, 154.49684210526317, 'gini = 0.0\\nsamples = 4\\nvalue = [4, 0]'),\n",
       " Text(320.1213424722288, 177.38526315789474, 'X[1] <= 10924.5\\ngini = 0.143\\nsamples = 219\\nvalue = [17, 202]'),\n",
       " Text(310.50701961711184, 165.94105263157894, 'X[34] <= 0.5\\ngini = 0.129\\nsamples = 216\\nvalue = [15, 201]'),\n",
       " Text(298.87487591585915, 154.49684210526317, 'X[4] <= 66.5\\ngini = 0.098\\nsamples = 194\\nvalue = [10, 184]'),\n",
       " Text(290.8035925313165, 143.05263157894737, 'X[24] <= 0.5\\ngini = 0.089\\nsamples = 192\\nvalue = [9, 183]'),\n",
       " Text(282.2575277712125, 131.60842105263157, 'X[16] <= 0.5\\ngini = 0.074\\nsamples = 183\\nvalue = [7, 176]'),\n",
       " Text(272.76190025998585, 120.16421052631578, 'X[5] <= 2.5\\ngini = 0.048\\nsamples = 162\\nvalue = [4, 158]'),\n",
       " Text(266.43148191916805, 108.72, 'X[20] <= 0.5\\ngini = 0.037\\nsamples = 158\\nvalue = [3, 155]'),\n",
       " Text(261.36714724651387, 97.27578947368421, 'X[30] <= 0.5\\ngini = 0.014\\nsamples = 140\\nvalue = [1, 139]'),\n",
       " Text(258.83497991018675, 85.83157894736843, 'gini = 0.0\\nsamples = 124\\nvalue = [0, 124]'),\n",
       " Text(263.89931458284093, 85.83157894736843, 'X[1] <= 3599.0\\ngini = 0.117\\nsamples = 16\\nvalue = [1, 15]'),\n",
       " Text(261.36714724651387, 74.38736842105263, 'gini = 0.0\\nsamples = 14\\nvalue = [0, 14]'),\n",
       " Text(266.43148191916805, 74.38736842105263, 'X[4] <= 38.0\\ngini = 0.5\\nsamples = 2\\nvalue = [1, 1]'),\n",
       " Text(263.89931458284093, 62.943157894736856, 'gini = 0.0\\nsamples = 1\\nvalue = [1, 0]'),\n",
       " Text(268.96364925549517, 62.943157894736856, 'gini = 0.0\\nsamples = 1\\nvalue = [0, 1]'),\n",
       " Text(271.4958165918223, 97.27578947368421, 'X[49] <= 0.5\\ngini = 0.198\\nsamples = 18\\nvalue = [2, 16]'),\n",
       " Text(268.96364925549517, 85.83157894736843, 'gini = 0.0\\nsamples = 13\\nvalue = [0, 13]'),\n",
       " Text(274.0279839281494, 85.83157894736843, 'X[2] <= 3.5\\ngini = 0.48\\nsamples = 5\\nvalue = [2, 3]'),\n",
       " Text(271.4958165918223, 74.38736842105263, 'gini = 0.0\\nsamples = 3\\nvalue = [0, 3]'),\n",
       " Text(276.5601512644765, 74.38736842105263, 'gini = 0.0\\nsamples = 2\\nvalue = [2, 0]'),\n",
       " Text(279.0923186008036, 108.72, 'X[1] <= 3362.5\\ngini = 0.375\\nsamples = 4\\nvalue = [1, 3]'),\n",
       " Text(276.5601512644765, 97.27578947368421, 'gini = 0.0\\nsamples = 3\\nvalue = [0, 3]'),\n",
       " Text(281.6244859371307, 97.27578947368421, 'gini = 0.0\\nsamples = 1\\nvalue = [1, 0]'),\n",
       " Text(291.75315528243914, 120.16421052631578, 'X[23] <= 0.5\\ngini = 0.245\\nsamples = 21\\nvalue = [3, 18]'),\n",
       " Text(289.220987946112, 108.72, 'X[2] <= 3.5\\ngini = 0.18\\nsamples = 20\\nvalue = [2, 18]'),\n",
       " Text(286.68882060978495, 97.27578947368421, 'gini = 0.0\\nsamples = 12\\nvalue = [0, 12]'),\n",
       " Text(291.75315528243914, 97.27578947368421, 'X[49] <= 0.5\\ngini = 0.375\\nsamples = 8\\nvalue = [2, 6]'),\n",
       " Text(289.220987946112, 85.83157894736843, 'gini = 0.0\\nsamples = 4\\nvalue = [0, 4]'),\n",
       " Text(294.28532261876626, 85.83157894736843, 'X[1] <= 1485.5\\ngini = 0.5\\nsamples = 4\\nvalue = [2, 2]'),\n",
       " Text(291.75315528243914, 74.38736842105263, 'gini = 0.0\\nsamples = 2\\nvalue = [0, 2]'),\n",
       " Text(296.8174899550934, 74.38736842105263, 'gini = 0.0\\nsamples = 2\\nvalue = [2, 0]'),\n",
       " Text(294.28532261876626, 108.72, 'gini = 0.0\\nsamples = 1\\nvalue = [1, 0]'),\n",
       " Text(299.3496572914205, 131.60842105263157, 'X[30] <= 0.5\\ngini = 0.346\\nsamples = 9\\nvalue = [2, 7]'),\n",
       " Text(296.8174899550934, 120.16421052631578, 'gini = 0.0\\nsamples = 6\\nvalue = [0, 6]'),\n",
       " Text(301.8818246277476, 120.16421052631578, 'X[1] <= 1698.0\\ngini = 0.444\\nsamples = 3\\nvalue = [2, 1]'),\n",
       " Text(299.3496572914205, 108.72, 'gini = 0.0\\nsamples = 1\\nvalue = [0, 1]'),\n",
       " Text(304.4139919640747, 108.72, 'gini = 0.0\\nsamples = 2\\nvalue = [2, 0]'),\n",
       " Text(306.9461593004018, 143.05263157894737, 'X[55] <= 0.5\\ngini = 0.5\\nsamples = 2\\nvalue = [1, 1]'),\n",
       " Text(304.4139919640747, 131.60842105263157, 'gini = 0.0\\nsamples = 1\\nvalue = [1, 0]'),\n",
       " Text(309.4783266367289, 131.60842105263157, 'gini = 0.0\\nsamples = 1\\nvalue = [0, 1]'),\n",
       " Text(322.13916331836447, 154.49684210526317, 'X[1] <= 4211.5\\ngini = 0.351\\nsamples = 22\\nvalue = [5, 17]'),\n",
       " Text(317.0748286457102, 143.05263157894737, 'X[23] <= 0.5\\ngini = 0.111\\nsamples = 17\\nvalue = [1, 16]'),\n",
       " Text(314.54266130938316, 131.60842105263157, 'gini = 0.0\\nsamples = 16\\nvalue = [0, 16]'),\n",
       " Text(319.60699598203735, 131.60842105263157, 'gini = 0.0\\nsamples = 1\\nvalue = [1, 0]'),\n",
       " Text(327.2034979910187, 143.05263157894737, 'X[56] <= 0.5\\ngini = 0.32\\nsamples = 5\\nvalue = [4, 1]'),\n",
       " Text(324.6713306546916, 131.60842105263157, 'gini = 0.0\\nsamples = 4\\nvalue = [4, 0]'),\n",
       " Text(329.73566532734577, 131.60842105263157, 'gini = 0.0\\nsamples = 1\\nvalue = [0, 1]'),\n",
       " Text(329.73566532734577, 165.94105263157894, 'X[19] <= 0.5\\ngini = 0.444\\nsamples = 3\\nvalue = [2, 1]'),\n",
       " Text(327.2034979910187, 154.49684210526317, 'gini = 0.0\\nsamples = 2\\nvalue = [2, 0]'),\n",
       " Text(332.2678326636729, 154.49684210526317, 'gini = 0.0\\nsamples = 1\\nvalue = [0, 1]')]"
      ]
     },
     "execution_count": 14,
     "metadata": {},
     "output_type": "execute_result"
    },
    {
     "data": {
      "image/png": "[encoded data removed]",
      "text/plain": [
       "<Figure size 432x288 with 1 Axes>"
      ]
     },
     "metadata": {
      "needs_background": "light"
     },
     "output_type": "display_data"
    }
   ],
   "source": [
    "#plotting the tree with the plot_tree function for the training set\n",
    "from sklearn import tree\n",
    "tree.plot_tree(gcdtc)"
   ]
  },
  {
   "cell_type": "code",
   "execution_count": null,
   "metadata": {},
   "outputs": [],
   "source": []
  },
  {
   "cell_type": "markdown",
   "metadata": {},
   "source": [
    "### After you've built the best model you can, now it's time to visualize it!"
   ]
  },
  {
   "cell_type": "markdown",
   "metadata": {},
   "source": [
    "Rememeber that amazing blog post from a few paragraphs ago, that demonstrated how to visualize and interpret the results of your Decision Tree model. We've seen that this can perform very well, but let's see how it does on the \"German Credit\" dataset that we're working on, due to it being a bit larger than the one used by the blog authors."
   ]
  },
  {
   "cell_type": "markdown",
   "metadata": {},
   "source": [
    "First, we're going to need to install their package. If you're using Anaconda, this can be done easily by running:"
   ]
  },
  {
   "cell_type": "code",
   "execution_count": 15,
   "metadata": {},
   "outputs": [
    {
     "name": "stdout",
     "output_type": "stream",
     "text": [
      "Requirement already satisfied: dtreeviz in /opt/conda/envs/springboard/lib/python3.7/site-packages (0.8.2)\n",
      "Requirement already satisfied: scikit-learn in /opt/conda/envs/springboard/lib/python3.7/site-packages (from dtreeviz) (0.22.1)\n",
      "Requirement already satisfied: colour in /opt/conda/envs/springboard/lib/python3.7/site-packages (from dtreeviz) (0.1.5)\n",
      "Requirement already satisfied: numpy in /opt/conda/envs/springboard/lib/python3.7/site-packages (from dtreeviz) (1.18.1)\n",
      "Requirement already satisfied: graphviz>=0.9 in /opt/conda/envs/springboard/lib/python3.7/site-packages (from dtreeviz) (0.14)\n",
      "Requirement already satisfied: matplotlib in /opt/conda/envs/springboard/lib/python3.7/site-packages (from dtreeviz) (3.1.3)\n",
      "Requirement already satisfied: pandas in /opt/conda/envs/springboard/lib/python3.7/site-packages (from dtreeviz) (1.0.1)\n",
      "Requirement already satisfied: joblib>=0.11 in /opt/conda/envs/springboard/lib/python3.7/site-packages (from scikit-learn->dtreeviz) (0.14.1)\n",
      "Requirement already satisfied: scipy>=0.17.0 in /opt/conda/envs/springboard/lib/python3.7/site-packages (from scikit-learn->dtreeviz) (1.4.1)\n",
      "Requirement already satisfied: python-dateutil>=2.1 in /opt/conda/envs/springboard/lib/python3.7/site-packages (from matplotlib->dtreeviz) (2.8.1)\n",
      "Requirement already satisfied: kiwisolver>=1.0.1 in /opt/conda/envs/springboard/lib/python3.7/site-packages (from matplotlib->dtreeviz) (1.1.0)\n",
      "Requirement already satisfied: cycler>=0.10 in /opt/conda/envs/springboard/lib/python3.7/site-packages (from matplotlib->dtreeviz) (0.10.0)\n",
      "Requirement already satisfied: pyparsing!=2.0.4,!=2.1.2,!=2.1.6,>=2.0.1 in /opt/conda/envs/springboard/lib/python3.7/site-packages (from matplotlib->dtreeviz) (2.4.6)\n",
      "Requirement already satisfied: pytz>=2017.2 in /opt/conda/envs/springboard/lib/python3.7/site-packages (from pandas->dtreeviz) (2019.3)\n",
      "Requirement already satisfied: six>=1.5 in /opt/conda/envs/springboard/lib/python3.7/site-packages (from python-dateutil>=2.1->matplotlib->dtreeviz) (1.14.0)\n",
      "Requirement already satisfied: setuptools in /opt/conda/envs/springboard/lib/python3.7/site-packages (from kiwisolver>=1.0.1->matplotlib->dtreeviz) (46.4.0.post20200518)\n"
     ]
    }
   ],
   "source": [
    "! pip install dtreeviz"
   ]
  },
  {
   "cell_type": "markdown",
   "metadata": {},
   "source": [
    "If for any reason this way of installing doesn't work for you straight out of the box, please refer to the more detailed documentation here: https://github.com/parrt/dtreeviz"
   ]
  },
  {
   "cell_type": "markdown",
   "metadata": {},
   "source": [
    "Now you're ready to visualize your Decision Tree model! Please feel free to use the blog post for guidance and inspiration!"
   ]
  },
  {
   "cell_type": "code",
   "execution_count": 24,
   "metadata": {},
   "outputs": [],
   "source": [
    "# convert class labels to 0 and 1\n",
    "from sklearn.preprocessing import LabelBinarizer\n",
    "lb = LabelBinarizer()\n",
    "y_train_b = lb.fit_transform(y_train)\n",
    "y_test_b = lb.fit_transform(y_test)\n",
    "\n",
    "#np.unique(y_train_b)"
   ]
  },
  {
   "cell_type": "code",
   "execution_count": 26,
   "metadata": {},
   "outputs": [
    {
     "name": "stderr",
     "output_type": "stream",
     "text": [
      "findfont: Font family ['Arial'] not found. Falling back to DejaVu Sans.\n",
      "findfont: Font family ['Arial'] not found. Falling back to DejaVu Sans.\n",
      "findfont: Font family ['Arial'] not found. Falling back to DejaVu Sans.\n"
     ]
    },
    {
     "ename": "ExecutableNotFound",
     "evalue": "failed to execute ['dot', '-Tsvg', '-o', 'Germancredit.svg', './Germancredit'], make sure the Graphviz executables are on your systems' PATH",
     "output_type": "error",
     "traceback": [
      "\u001b[0;31m---------------------------------------------------------------------------\u001b[0m",
      "\u001b[0;31mFileNotFoundError\u001b[0m                         Traceback (most recent call last)",
      "\u001b[0;32m/opt/conda/envs/springboard/lib/python3.7/site-packages/graphviz/backend.py\u001b[0m in \u001b[0;36mrun\u001b[0;34m(cmd, input, capture_output, check, encoding, quiet, **kwargs)\u001b[0m\n\u001b[1;32m    163\u001b[0m     \u001b[0;32mtry\u001b[0m\u001b[0;34m:\u001b[0m\u001b[0;34m\u001b[0m\u001b[0;34m\u001b[0m\u001b[0m\n\u001b[0;32m--> 164\u001b[0;31m         \u001b[0mproc\u001b[0m \u001b[0;34m=\u001b[0m \u001b[0msubprocess\u001b[0m\u001b[0;34m.\u001b[0m\u001b[0mPopen\u001b[0m\u001b[0;34m(\u001b[0m\u001b[0mcmd\u001b[0m\u001b[0;34m,\u001b[0m \u001b[0mstartupinfo\u001b[0m\u001b[0;34m=\u001b[0m\u001b[0mget_startupinfo\u001b[0m\u001b[0;34m(\u001b[0m\u001b[0;34m)\u001b[0m\u001b[0;34m,\u001b[0m \u001b[0;34m**\u001b[0m\u001b[0mkwargs\u001b[0m\u001b[0;34m)\u001b[0m\u001b[0;34m\u001b[0m\u001b[0;34m\u001b[0m\u001b[0m\n\u001b[0m\u001b[1;32m    165\u001b[0m     \u001b[0;32mexcept\u001b[0m \u001b[0mOSError\u001b[0m \u001b[0;32mas\u001b[0m \u001b[0me\u001b[0m\u001b[0;34m:\u001b[0m\u001b[0;34m\u001b[0m\u001b[0;34m\u001b[0m\u001b[0m\n",
      "\u001b[0;32m/opt/conda/envs/springboard/lib/python3.7/subprocess.py\u001b[0m in \u001b[0;36m__init__\u001b[0;34m(self, args, bufsize, executable, stdin, stdout, stderr, preexec_fn, close_fds, shell, cwd, env, universal_newlines, startupinfo, creationflags, restore_signals, start_new_session, pass_fds, encoding, errors, text)\u001b[0m\n\u001b[1;32m    799\u001b[0m                                 \u001b[0merrread\u001b[0m\u001b[0;34m,\u001b[0m \u001b[0merrwrite\u001b[0m\u001b[0;34m,\u001b[0m\u001b[0;34m\u001b[0m\u001b[0;34m\u001b[0m\u001b[0m\n\u001b[0;32m--> 800\u001b[0;31m                                 restore_signals, start_new_session)\n\u001b[0m\u001b[1;32m    801\u001b[0m         \u001b[0;32mexcept\u001b[0m\u001b[0;34m:\u001b[0m\u001b[0;34m\u001b[0m\u001b[0;34m\u001b[0m\u001b[0m\n",
      "\u001b[0;32m/opt/conda/envs/springboard/lib/python3.7/subprocess.py\u001b[0m in \u001b[0;36m_execute_child\u001b[0;34m(self, args, executable, preexec_fn, close_fds, pass_fds, cwd, env, startupinfo, creationflags, shell, p2cread, p2cwrite, c2pread, c2pwrite, errread, errwrite, restore_signals, start_new_session)\u001b[0m\n\u001b[1;32m   1550\u001b[0m                             \u001b[0merr_msg\u001b[0m \u001b[0;34m+=\u001b[0m \u001b[0;34m': '\u001b[0m \u001b[0;34m+\u001b[0m \u001b[0mrepr\u001b[0m\u001b[0;34m(\u001b[0m\u001b[0merr_filename\u001b[0m\u001b[0;34m)\u001b[0m\u001b[0;34m\u001b[0m\u001b[0;34m\u001b[0m\u001b[0m\n\u001b[0;32m-> 1551\u001b[0;31m                     \u001b[0;32mraise\u001b[0m \u001b[0mchild_exception_type\u001b[0m\u001b[0;34m(\u001b[0m\u001b[0merrno_num\u001b[0m\u001b[0;34m,\u001b[0m \u001b[0merr_msg\u001b[0m\u001b[0;34m,\u001b[0m \u001b[0merr_filename\u001b[0m\u001b[0;34m)\u001b[0m\u001b[0;34m\u001b[0m\u001b[0;34m\u001b[0m\u001b[0m\n\u001b[0m\u001b[1;32m   1552\u001b[0m                 \u001b[0;32mraise\u001b[0m \u001b[0mchild_exception_type\u001b[0m\u001b[0;34m(\u001b[0m\u001b[0merr_msg\u001b[0m\u001b[0;34m)\u001b[0m\u001b[0;34m\u001b[0m\u001b[0;34m\u001b[0m\u001b[0m\n",
      "\u001b[0;31mFileNotFoundError\u001b[0m: [Errno 2] No such file or directory: 'dot': 'dot'",
      "\nDuring handling of the above exception, another exception occurred:\n",
      "\u001b[0;31mExecutableNotFound\u001b[0m                        Traceback (most recent call last)",
      "\u001b[0;32m<ipython-input-26-e516bd1f5e41>\u001b[0m in \u001b[0;36m<module>\u001b[0;34m\u001b[0m\n\u001b[1;32m     13\u001b[0m viz = dtreeviz(gcdtc, X_train, y_train_b.ravel(), target_name='Class',\n\u001b[1;32m     14\u001b[0m                feature_names=X_train.columns.values, class_names= ['Good','Bad'])\n\u001b[0;32m---> 15\u001b[0;31m \u001b[0mviz\u001b[0m\u001b[0;34m.\u001b[0m\u001b[0msave\u001b[0m\u001b[0;34m(\u001b[0m\u001b[0;34m\"Germancredit.svg\"\u001b[0m\u001b[0;34m)\u001b[0m \u001b[0;31m# suffix determines the generated image format\u001b[0m\u001b[0;34m\u001b[0m\u001b[0;34m\u001b[0m\u001b[0m\n\u001b[0m\u001b[1;32m     16\u001b[0m \u001b[0mviz\u001b[0m\u001b[0;34m.\u001b[0m\u001b[0mview\u001b[0m\u001b[0;34m(\u001b[0m\u001b[0;34m)\u001b[0m             \u001b[0;31m# pop up window to display image\u001b[0m\u001b[0;34m\u001b[0m\u001b[0;34m\u001b[0m\u001b[0m\n",
      "\u001b[0;32m/opt/conda/envs/springboard/lib/python3.7/site-packages/dtreeviz/trees.py\u001b[0m in \u001b[0;36msave\u001b[0;34m(self, filename)\u001b[0m\n\u001b[1;32m     71\u001b[0m         \u001b[0mcmd\u001b[0m \u001b[0;34m=\u001b[0m \u001b[0;34m[\u001b[0m\u001b[0;34m\"dot\"\u001b[0m\u001b[0;34m,\u001b[0m \u001b[0;34mf\"-T{format}\"\u001b[0m\u001b[0;34m,\u001b[0m \u001b[0;34m\"-o\"\u001b[0m\u001b[0;34m,\u001b[0m \u001b[0mfilename\u001b[0m\u001b[0;34m,\u001b[0m \u001b[0mdotfilename\u001b[0m\u001b[0;34m]\u001b[0m\u001b[0;34m\u001b[0m\u001b[0;34m\u001b[0m\u001b[0m\n\u001b[1;32m     72\u001b[0m         \u001b[0;31m# print(' '.join(cmd))\u001b[0m\u001b[0;34m\u001b[0m\u001b[0;34m\u001b[0m\u001b[0;34m\u001b[0m\u001b[0m\n\u001b[0;32m---> 73\u001b[0;31m         \u001b[0mrun\u001b[0m\u001b[0;34m(\u001b[0m\u001b[0mcmd\u001b[0m\u001b[0;34m,\u001b[0m \u001b[0mcapture_output\u001b[0m\u001b[0;34m=\u001b[0m\u001b[0;32mTrue\u001b[0m\u001b[0;34m,\u001b[0m \u001b[0mcheck\u001b[0m\u001b[0;34m=\u001b[0m\u001b[0;32mTrue\u001b[0m\u001b[0;34m,\u001b[0m \u001b[0mquiet\u001b[0m\u001b[0;34m=\u001b[0m\u001b[0;32mFalse\u001b[0m\u001b[0;34m)\u001b[0m\u001b[0;34m\u001b[0m\u001b[0;34m\u001b[0m\u001b[0m\n\u001b[0m\u001b[1;32m     74\u001b[0m \u001b[0;34m\u001b[0m\u001b[0m\n\u001b[1;32m     75\u001b[0m         \u001b[0;32mif\u001b[0m \u001b[0mfilename\u001b[0m\u001b[0;34m.\u001b[0m\u001b[0mendswith\u001b[0m\u001b[0;34m(\u001b[0m\u001b[0;34m\".svg\"\u001b[0m\u001b[0;34m)\u001b[0m\u001b[0;34m:\u001b[0m\u001b[0;34m\u001b[0m\u001b[0;34m\u001b[0m\u001b[0m\n",
      "\u001b[0;32m/opt/conda/envs/springboard/lib/python3.7/site-packages/graphviz/backend.py\u001b[0m in \u001b[0;36mrun\u001b[0;34m(cmd, input, capture_output, check, encoding, quiet, **kwargs)\u001b[0m\n\u001b[1;32m    165\u001b[0m     \u001b[0;32mexcept\u001b[0m \u001b[0mOSError\u001b[0m \u001b[0;32mas\u001b[0m \u001b[0me\u001b[0m\u001b[0;34m:\u001b[0m\u001b[0;34m\u001b[0m\u001b[0;34m\u001b[0m\u001b[0m\n\u001b[1;32m    166\u001b[0m         \u001b[0;32mif\u001b[0m \u001b[0me\u001b[0m\u001b[0;34m.\u001b[0m\u001b[0merrno\u001b[0m \u001b[0;34m==\u001b[0m \u001b[0merrno\u001b[0m\u001b[0;34m.\u001b[0m\u001b[0mENOENT\u001b[0m\u001b[0;34m:\u001b[0m\u001b[0;34m\u001b[0m\u001b[0;34m\u001b[0m\u001b[0m\n\u001b[0;32m--> 167\u001b[0;31m             \u001b[0;32mraise\u001b[0m \u001b[0mExecutableNotFound\u001b[0m\u001b[0;34m(\u001b[0m\u001b[0mcmd\u001b[0m\u001b[0;34m)\u001b[0m\u001b[0;34m\u001b[0m\u001b[0;34m\u001b[0m\u001b[0m\n\u001b[0m\u001b[1;32m    168\u001b[0m         \u001b[0;32melse\u001b[0m\u001b[0;34m:\u001b[0m\u001b[0;34m\u001b[0m\u001b[0;34m\u001b[0m\u001b[0m\n\u001b[1;32m    169\u001b[0m             \u001b[0;32mraise\u001b[0m\u001b[0;34m\u001b[0m\u001b[0;34m\u001b[0m\u001b[0m\n",
      "\u001b[0;31mExecutableNotFound\u001b[0m: failed to execute ['dot', '-Tsvg', '-o', 'Germancredit.svg', './Germancredit'], make sure the Graphviz executables are on your systems' PATH"
     ]
    }
   ],
   "source": [
    "# Your code here!\n",
    "from sklearn.datasets import *\n",
    "from sklearn import tree\n",
    "from sklearn import preprocessing, tree\n",
    "from dtreeviz.trees import dtreeviz\n",
    "import graphviz\n",
    "\n",
    "#regr = tree.DecisionTreeRegressor(max_depth=3)\n",
    "#regr = regr.fit(X_train, y_train)\n",
    "\n",
    "#classifier = tree.DecisionTreeClassifier(max_depth=3)\n",
    "#classifier = classifier.fit(X_train, y_train)\n",
    "viz = dtreeviz(gcdtc, X_train, y_train_b.ravel(), target_name='Class',\n",
    "               feature_names=X_train.columns.values, class_names= ['Good','Bad'])\n",
    "viz.save(\"Germancredit.svg\") # suffix determines the generated image format\n",
    "viz.view()             # pop up window to display image"
   ]
  },
  {
   "cell_type": "markdown",
   "metadata": {},
   "source": [
    "## Random Forests"
   ]
  },
  {
   "cell_type": "markdown",
   "metadata": {},
   "source": [
    "As discussed in the lecture videos, Decision Tree algorithms also have certain undesireable properties. Mainly the have low bias, which is good, but tend to have high variance - which is *not* so good (more about this problem here: https://en.wikipedia.org/wiki/Bias%E2%80%93variance_tradeoff)."
   ]
  },
  {
   "cell_type": "markdown",
   "metadata": {},
   "source": [
    "Noticing these problems, the late Professor Leo Breiman, in 2001, developed the Random Forests algorithm, which mitigates these problems, while at the same time providing even higher predictive accuracy than the majority of Decision Tree algorithm implementations. While the curriculum contains two excellent lectures on Random Forests, if you're interested, you can dive into the original paper here: https://link.springer.com/content/pdf/10.1023%2FA%3A1010933404324.pdf."
   ]
  },
  {
   "cell_type": "markdown",
   "metadata": {},
   "source": [
    "In the next part of this assignment, your are going to use the same \"German Credit\" dataset to train, tune, and measure the performance of a Random Forests model. You will also see certain functionalities that this model, even though it's a bit of a \"black box\", provides for some degree of interpretability."
   ]
  },
  {
   "cell_type": "markdown",
   "metadata": {},
   "source": [
    "First, let's build a Random Forests model, using the same best practices that you've used for your Decision Trees model. You can reuse the things you've already imported there, so no need to do any re-imports, new train/test splits, or loading up the data again."
   ]
  },
  {
   "cell_type": "code",
   "execution_count": null,
   "metadata": {},
   "outputs": [],
   "source": [
    "from sklearn.ensemble import RandomForestClassifier"
   ]
  },
  {
   "cell_type": "code",
   "execution_count": 27,
   "metadata": {},
   "outputs": [
    {
     "name": "stdout",
     "output_type": "stream",
     "text": [
      "[1]\n"
     ]
    }
   ],
   "source": [
    "# Your code here! :)\n",
    "from sklearn.ensemble import RandomForestClassifier\n",
    "from sklearn.datasets import make_classification\n",
    "\n"
   ]
  },
  {
   "cell_type": "markdown",
   "metadata": {},
   "source": [
    "As mentioned, there are certain ways to \"peek\" into a model created by the Random Forests algorithm. The first, and most popular one, is the Feature Importance calculation functionality. This allows the ML practitioner to see an ordering of the importance of the features that have contributed the most to the predictive accuracy of the model. \n",
    "\n",
    "You can see how to use this in the scikit-learn documentation (http://scikit-learn.org/stable/modules/generated/sklearn.ensemble.RandomForestClassifier.html#sklearn.ensemble.RandomForestClassifier.feature_importances_). Now, if you tried this, you would just get an ordered table of not directly interpretable numeric values. Thus, it's much more useful to show the feature importance in a visual way. You can see an example of how that's done here: http://scikit-learn.org/stable/auto_examples/ensemble/plot_forest_importances.html#sphx-glr-auto-examples-ensemble-plot-forest-importances-py\n",
    "\n",
    "Now you try! Let's visualize the importance of features from your Random Forests model!"
   ]
  },
  {
   "cell_type": "code",
   "execution_count": null,
   "metadata": {},
   "outputs": [],
   "source": [
    "# Your code here"
   ]
  },
  {
   "cell_type": "markdown",
   "metadata": {},
   "source": [
    "A final method for gaining some insight into the inner working of your Random Forests models is a so-called Partial Dependence Plot. The Partial Dependence Plot (PDP or PD plot) shows the marginal effect of a feature on the predicted outcome of a previously fit model. The prediction function is fixed at a few values of the chosen features and averaged over the other features. A partial dependence plot can show if the relationship between the target and a feature is linear, monotonic or more complex. \n",
    "\n",
    "In scikit-learn, PDPs are implemented and available for certain algorithms, but at this point (version 0.20.0) they are not yet implemented for Random Forests. Thankfully, there is an add-on package called **PDPbox** (https://pdpbox.readthedocs.io/en/latest/) which adds this functionality to Random Forests. The package is easy to install through pip."
   ]
  },
  {
   "cell_type": "code",
   "execution_count": null,
   "metadata": {},
   "outputs": [],
   "source": [
    "! pip install pdpbox"
   ]
  },
  {
   "cell_type": "markdown",
   "metadata": {},
   "source": [
    "While we encourage you to read the documentation for the package (and reading package documentation in general is a good habit to develop), the authors of the package have also written an excellent blog post on how to use it, showing examples on different algorithms from scikit-learn (the Random Forests example is towards the end of the blog post): https://briangriner.github.io/Partial_Dependence_Plots_presentation-BrianGriner-PrincetonPublicLibrary-4.14.18-updated-4.22.18.html"
   ]
  },
  {
   "cell_type": "markdown",
   "metadata": {},
   "source": [
    "So, armed with this new knowledge, feel free to pick a few features, and make a couple of Partial Dependence Plots of your own!"
   ]
  },
  {
   "cell_type": "code",
   "execution_count": null,
   "metadata": {},
   "outputs": [],
   "source": [
    "# Your code here!"
   ]
  },
  {
   "cell_type": "markdown",
   "metadata": {},
   "source": [
    "## (Optional) Advanced Boosting-Based Algorithms"
   ]
  },
  {
   "cell_type": "markdown",
   "metadata": {},
   "source": [
    "As explained in the video lectures, the next generation of algorithms after Random Forests (that use Bagging, a.k.a. Bootstrap Aggregation) were developed using Boosting, and the first one of these were Gradient Boosted Machines, which are implemented in scikit-learn (http://scikit-learn.org/stable/modules/ensemble.html#gradient-tree-boosting)."
   ]
  },
  {
   "cell_type": "markdown",
   "metadata": {},
   "source": [
    "Still, in recent years, a number of variations on GBMs have been developed by different research amd industry groups, all of them bringing improvements, both in speed, accuracy and functionality to the original Gradient Boosting algorithms.\n",
    "\n",
    "In no order of preference, these are:\n",
    "1. **XGBoost**: https://xgboost.readthedocs.io/en/latest/\n",
    "2. **CatBoost**: https://tech.yandex.com/catboost/\n",
    "3. **LightGBM**: https://lightgbm.readthedocs.io/en/latest/"
   ]
  },
  {
   "cell_type": "markdown",
   "metadata": {},
   "source": [
    "If you're using the Anaconda distribution, these are all very easy to install:"
   ]
  },
  {
   "cell_type": "code",
   "execution_count": null,
   "metadata": {},
   "outputs": [],
   "source": [
    "! conda install -c anaconda py-xgboost"
   ]
  },
  {
   "cell_type": "code",
   "execution_count": null,
   "metadata": {},
   "outputs": [],
   "source": [
    "! conda install -c conda-forge catboost"
   ]
  },
  {
   "cell_type": "code",
   "execution_count": null,
   "metadata": {},
   "outputs": [],
   "source": [
    "! conda install -c conda-forge lightgbm"
   ]
  },
  {
   "cell_type": "markdown",
   "metadata": {},
   "source": [
    "Your task in this optional section of the mini project is to read the documentation of these three libraries, and apply all of them to the \"German Credit\" dataset, just like you did in the case of Decision Trees and Random Forests."
   ]
  },
  {
   "cell_type": "markdown",
   "metadata": {},
   "source": [
    "The final deliverable of this section should be a table (can be a pandas DataFrame) which shows the accuracy of all the five algorthms taught in this mini project in one place."
   ]
  },
  {
   "cell_type": "markdown",
   "metadata": {},
   "source": [
    "Happy modeling! :)"
   ]
  },
  {
   "cell_type": "code",
   "execution_count": null,
   "metadata": {},
   "outputs": [],
   "source": []
  }
 ],
 "metadata": {
  "kernelspec": {
   "display_name": "Python 3",
   "language": "python",
   "name": "python3"
  },
  "language_info": {
   "codemirror_mode": {
    "name": "ipython",
    "version": 3
   },
   "file_extension": ".py",
   "mimetype": "text/x-python",
   "name": "python",
   "nbconvert_exporter": "python",
   "pygments_lexer": "ipython3",
   "version": "3.7.6"
  }
 },
 "nbformat": 4,
 "nbformat_minor": 4
}
